{
 "cells": [
  {
   "cell_type": "markdown",
   "metadata": {},
   "source": [
    "# Python project - graphs - Omer Vinik"
   ]
  },
  {
   "cell_type": "markdown",
   "metadata": {},
   "source": [
    "## Part I – The Node class\n",
    "## Task 1 – Define the class\n",
    "### Implement the Node class"
   ]
  },
  {
   "cell_type": "code",
   "execution_count": 1,
   "metadata": {
    "collapsed": true
   },
   "outputs": [],
   "source": [
    "class Node:\n",
    "    def __init__(self, name):\n",
    "        self.name = name\n",
    "        self.neighbors = {}\n",
    "\n",
    "    def __str__(self):\n",
    "        out = \"Node name: \" + self.name + \"\\n\"\n",
    "        if not self.is_isolated():\n",
    "            out += \"Node neighbors:\\n\"\n",
    "            for neighbor in self.neighbors:\n",
    "                s = \"Neighbor name: {:<9} Weight: {}\\n\"\n",
    "                out += s.format(neighbor, self.neighbors[neighbor])\n",
    "        else:\n",
    "            out += \"Node has no neighbors.\\n\"            \n",
    "        return out\n",
    "\n",
    "    def __len__(self):\n",
    "        return len(self.neighbors)\n",
    "\n",
    "    def __contains__(self, item):\n",
    "        return item in self.neighbors\n",
    "\n",
    "    def __getitem__(self, key):\n",
    "        return self.neighbors[key] if self.is_neighbor(key) else None\n",
    "\n",
    "    def __eq__(self, other):\n",
    "        return self.name == other.name\n",
    "\n",
    "    def __ne__(self, other):\n",
    "        return not (self == other)\n",
    "\n",
    "    def is_neighbor(self, name):\n",
    "        return name in self\n",
    "\n",
    "    def add_neighbor(self, name, weight=1):\n",
    "        if self.name != name:\n",
    "            if self.is_neighbor(name):\n",
    "                self.neighbors[name] = max(weight, self.get_weight(name))\n",
    "            else:\n",
    "                self.neighbors[name] = weight\n",
    "\n",
    "    def remove_neighbor(self, name):\n",
    "        if self.is_neighbor(name):\n",
    "            self.neighbors.pop(name)\n",
    "\n",
    "    def get_weight(self, name):\n",
    "        return self[name]\n",
    "\n",
    "    def is_isolated(self):\n",
    "        return not len(self)"
   ]
  },
  {
   "cell_type": "markdown",
   "metadata": {},
   "source": [
    "## Task 2 – Exemplary usage\n",
    "## Question 1\n",
    "### Create 10 Node objects according to the figure above, print them (textually, of course)."
   ]
  },
  {
   "cell_type": "code",
   "execution_count": 2,
   "metadata": {},
   "outputs": [
    {
     "name": "stdout",
     "output_type": "stream",
     "text": [
      "Node name: 1\n",
      "Node neighbors:\n",
      "Neighbor name: 2         Weight: 10\n",
      "Neighbor name: 5         Weight: 20\n",
      "Neighbor name: 4         Weight: 20\n",
      "Neighbor name: 7         Weight: 15\n",
      "Neighbor name: 6         Weight: 5\n",
      "\n",
      "Node name: 2\n",
      "Node neighbors:\n",
      "Neighbor name: 3         Weight: 5\n",
      "Neighbor name: 4         Weight: 10\n",
      "\n",
      "Node name: 3\n",
      "Node neighbors:\n",
      "Neighbor name: 2         Weight: 15\n",
      "Neighbor name: 4         Weight: 5\n",
      "\n",
      "Node name: 4\n",
      "Node neighbors:\n",
      "Neighbor name: 5         Weight: 10\n",
      "\n",
      "Node name: 5\n",
      "Node neighbors:\n",
      "Neighbor name: 6         Weight: 5\n",
      "\n",
      "Node name: 6\n",
      "Node has no neighbors.\n",
      "\n",
      "Node name: 7\n",
      "Node neighbors:\n",
      "Neighbor name: 6         Weight: 10\n",
      "\n",
      "Node name: 8\n",
      "Node neighbors:\n",
      "Neighbor name: 1         Weight: 5\n",
      "Neighbor name: 2         Weight: 20\n",
      "Neighbor name: 7         Weight: 5\n",
      "\n",
      "Node name: 9\n",
      "Node neighbors:\n",
      "Neighbor name: 8         Weight: 20\n",
      "Neighbor name: 2         Weight: 15\n",
      "Neighbor name: 10        Weight: 10\n",
      "\n",
      "Node name: 10\n",
      "Node neighbors:\n",
      "Neighbor name: 3         Weight: 15\n",
      "Neighbor name: 2         Weight: 5\n",
      "\n"
     ]
    }
   ],
   "source": [
    "node_01 = Node(\"1\")\n",
    "node_01.add_neighbor(\"2\",10)\n",
    "node_01.add_neighbor(\"4\",20)\n",
    "node_01.add_neighbor(\"5\",20)\n",
    "node_01.add_neighbor(\"6\",5)\n",
    "node_01.add_neighbor(\"7\",15)\n",
    "print node_01\n",
    "\n",
    "node_02 = Node(\"2\")\n",
    "node_02.add_neighbor(\"3\",5)\n",
    "node_02.add_neighbor(\"4\",10)\n",
    "print node_02\n",
    "\n",
    "node_03 = Node(\"3\")\n",
    "node_03.add_neighbor(\"2\",15)\n",
    "node_03.add_neighbor(\"4\",5)\n",
    "print node_03\n",
    "\n",
    "node_04 = Node(\"4\")\n",
    "node_04.add_neighbor(\"5\",10)\n",
    "print node_04\n",
    "\n",
    "node_05 = Node(\"5\")\n",
    "node_05.add_neighbor(\"6\",5)\n",
    "print node_05\n",
    "\n",
    "node_06 = Node(\"6\")\n",
    "print node_06\n",
    "\n",
    "node_07 = Node(\"7\")\n",
    "node_07.add_neighbor(\"6\",10)\n",
    "print node_07\n",
    "\n",
    "node_08 = Node(\"8\")\n",
    "node_08.add_neighbor(\"1\",5)\n",
    "node_08.add_neighbor(\"7\",5)\n",
    "node_08.add_neighbor(\"2\",20)\n",
    "print node_08\n",
    "\n",
    "node_09 = Node(\"9\")\n",
    "node_09.add_neighbor(\"2\",15)\n",
    "node_09.add_neighbor(\"8\",20)\n",
    "node_09.add_neighbor(\"10\",10)\n",
    "print node_09\n",
    "\n",
    "node_10 = Node(\"10\")\n",
    "node_10.add_neighbor(\"2\",5)\n",
    "node_10.add_neighbor(\"3\",15)\n",
    "print node_10"
   ]
  },
  {
   "cell_type": "markdown",
   "metadata": {},
   "source": [
    "## Part II – The Graph class\n",
    "## Task 1 – Define the class\n",
    "### Implement the Graph class"
   ]
  },
  {
   "cell_type": "code",
   "execution_count": 3,
   "metadata": {
    "collapsed": true
   },
   "outputs": [],
   "source": [
    "class Graph:\n",
    "    def __init__(self, name, nodes=[]):\n",
    "        self.name = name\n",
    "        self.nodes = {}\n",
    "        for node in nodes:\n",
    "            self.add_node(node)\n",
    "\n",
    "    def __str__(self):\n",
    "        out = \"Graph name: {}\\n\".format(self.name)\n",
    "        if len(self):\n",
    "            out += \"Graph's nodes:\\n\"\n",
    "            for node in self.nodes.values():\n",
    "                out += \"{}\\n\".format(str(node))\n",
    "        else:\n",
    "            out += \"Graph has no nodes.\\n\"\n",
    "        return out\n",
    "\n",
    "    def __len__(self):\n",
    "        return len(self.nodes)\n",
    "\n",
    "    def __contains__(self, item):\n",
    "        return item in self.nodes.values() if isinstance(item, Node) else item in self.nodes\n",
    "\n",
    "    def __getitem__(self, key):\n",
    "        if key in self:\n",
    "            return self.nodes[key]\n",
    "        else:\n",
    "            raise KeyError(\"Node {} not in {}\".format(key, self.name))\n",
    "\n",
    "    def __add__(self, other):\n",
    "        new_graph = Graph(\"{} + {}\".format(self.name, other.name), self.nodes.values())\n",
    "        for node in other.nodes.values():\n",
    "            new_graph.add_node(node)\n",
    "        return new_graph\n",
    "\n",
    "    def add_node(self, node):\n",
    "        # If node not in graph\n",
    "        if node not in self:\n",
    "            # Add node with all its data\n",
    "            self.nodes[node.name] = node\n",
    "        else:\n",
    "            # (node exists)\n",
    "            # Run through node's neighbors\n",
    "            for neighbor, weight in node.neighbors.items():\n",
    "                # update weight\n",
    "                self[node.name].add_neighbor(neighbor, weight)\n",
    "\n",
    "    def remove_node(self, name):\n",
    "        if name in self:\n",
    "            self.nodes.pop(name)\n",
    "\n",
    "    def is_edge(self, frm_name, to_name):\n",
    "        return self[frm_name].is_neighbor(to_name) if frm_name in self and to_name in self else False\n",
    "\n",
    "    def add_edge(self, frm_name, to_name, weight=1):\n",
    "        if frm_name in self:\n",
    "            self[frm_name].add_neighbor(to_name, weight)\n",
    "\n",
    "    def remove_edge(self, frm_name, to_name):\n",
    "        if frm_name in self and self[frm_name].is_neighbor(to_name):\n",
    "            self[frm_name].remove_neighbor(to_name)\n",
    "\n",
    "    def get_edge_weight(self, frm_name, to_name):\n",
    "        if frm_name in self and to_name in self:\n",
    "            return self[frm_name].get_weight(to_name) if self[frm_name].is_neighbor(to_name) else None\n",
    "\n",
    "    def get_path_weight(self, path):\n",
    "        if path:\n",
    "            weights = [self.get_edge_weight(i, j) for i, j in zip(path[:-1], path[1:])]\n",
    "            return sum(weights) if all(weights) else None\n",
    "\n",
    "    def is_reachable(self, frm_name, to_name):\n",
    "        if frm_name in self and to_name in self:\n",
    "            visited = set()\n",
    "            stack = [frm_name]\n",
    "            \n",
    "            while stack:\n",
    "                node = stack.pop()\n",
    "                if node in visited:\n",
    "                    continue\n",
    "                visited.add(node)\n",
    "                if self[node] == self[to_name]:\n",
    "                    return True\n",
    "                for n in self[node].neighbors:\n",
    "                    if n not in visited and n not in stack:\n",
    "                        stack.append(n)\n",
    "            return False\n",
    "\n",
    "    def find_shortest_path(self, frm_name, to_name):\n",
    "        if frm_name in self:\n",
    "            visited = set()\n",
    "            stack = [frm_name]\n",
    "            weights = dict(zip(self.nodes, [0] * len(self)))\n",
    "            paths = dict(zip(self.nodes, [[]] * len(self)))\n",
    "            paths[frm_name] = [frm_name]\n",
    "            \n",
    "            while stack:\n",
    "                node = stack.pop()\n",
    "                if node in visited:\n",
    "                    continue\n",
    "                visited.add(node)\n",
    "                for n in self[node].neighbors:\n",
    "                    if n not in visited:\n",
    "                        stack.append(n)\n",
    "                    edge_w = weights[node] + int(self.get_edge_weight(node, n))\n",
    "                    if weights[n] == 0 or weights[n] > edge_w:\n",
    "                        weights[n] = edge_w\n",
    "                        paths[n] = paths[node] + []\n",
    "                        paths[n].append(n)\n",
    "\n",
    "            return paths[to_name]"
   ]
  },
  {
   "cell_type": "code",
   "execution_count": 4,
   "metadata": {},
   "outputs": [
    {
     "name": "stdout",
     "output_type": "stream",
     "text": [
      "Graph name: Graph01\n",
      "Graph's nodes:\n",
      "Node name: 10\n",
      "Node neighbors:\n",
      "Neighbor name: 3         Weight: 15\n",
      "Neighbor name: 2         Weight: 5\n",
      "\n",
      "Node name: 1\n",
      "Node neighbors:\n",
      "Neighbor name: 2         Weight: 10\n",
      "Neighbor name: 5         Weight: 20\n",
      "Neighbor name: 4         Weight: 20\n",
      "Neighbor name: 7         Weight: 15\n",
      "Neighbor name: 6         Weight: 5\n",
      "\n",
      "Node name: 3\n",
      "Node neighbors:\n",
      "Neighbor name: 2         Weight: 15\n",
      "Neighbor name: 4         Weight: 5\n",
      "\n",
      "Node name: 2\n",
      "Node neighbors:\n",
      "Neighbor name: 3         Weight: 5\n",
      "Neighbor name: 4         Weight: 10\n",
      "\n",
      "Node name: 5\n",
      "Node neighbors:\n",
      "Neighbor name: 6         Weight: 5\n",
      "\n",
      "Node name: 4\n",
      "Node neighbors:\n",
      "Neighbor name: 5         Weight: 10\n",
      "\n",
      "Node name: 7\n",
      "Node neighbors:\n",
      "Neighbor name: 6         Weight: 10\n",
      "\n",
      "Node name: 6\n",
      "Node has no neighbors.\n",
      "\n",
      "Node name: 9\n",
      "Node neighbors:\n",
      "Neighbor name: 8         Weight: 20\n",
      "Neighbor name: 2         Weight: 15\n",
      "Neighbor name: 10        Weight: 10\n",
      "\n",
      "Node name: 8\n",
      "Node neighbors:\n",
      "Neighbor name: 1         Weight: 5\n",
      "Neighbor name: 2         Weight: 20\n",
      "Neighbor name: 7         Weight: 5\n",
      "\n",
      "\n"
     ]
    }
   ],
   "source": [
    "graph = Graph(\"Graph01\", [node_01, node_02, node_03, node_04, node_05, node_06, node_07, node_08, node_09, node_10])\n",
    "print graph"
   ]
  },
  {
   "cell_type": "markdown",
   "metadata": {},
   "source": [
    "## Question 3\n",
    "### How many edges are in the graph, and what is their total weight?"
   ]
  },
  {
   "cell_type": "code",
   "execution_count": 5,
   "metadata": {},
   "outputs": [
    {
     "name": "stdout",
     "output_type": "stream",
     "text": [
      "Number of edges: 20\n",
      "Their total weight: 225\n"
     ]
    }
   ],
   "source": [
    "num_of_edges, total_weight = 0, 0\n",
    "for node in graph.nodes:\n",
    "    num_of_edges += len(graph[node])\n",
    "    for neighbor in graph[node].neighbors:\n",
    "        total_weight += graph[node].get_weight(neighbor)\n",
    "        \n",
    "print \"Number of edges:\", num_of_edges\n",
    "print \"Their total weight:\", total_weight"
   ]
  },
  {
   "cell_type": "markdown",
   "metadata": {},
   "source": [
    "## Question 4\n",
    "### Sort the nodes by the number of their neighbors."
   ]
  },
  {
   "cell_type": "code",
   "execution_count": 6,
   "metadata": {},
   "outputs": [
    {
     "name": "stdout",
     "output_type": "stream",
     "text": [
      "[('6', 0), ('5', 1), ('4', 1), ('7', 1), ('10', 2), ('3', 2), ('2', 2), ('9', 3), ('8', 3), ('1', 5)]\n"
     ]
    }
   ],
   "source": [
    "res = []\n",
    "for node in graph.nodes:\n",
    "    res.append((node, len(graph[node])))\n",
    "print sorted(res, key=lambda x: x[1])"
   ]
  },
  {
   "cell_type": "markdown",
   "metadata": {},
   "source": [
    "## Task 2\n",
    "## Question 1\n",
    "### Create 3 Graph objects, each contains a different collection of nodes, which together contain all 10 nodes. Use the __add()__ method to create a total graph that contains the entire data of the example.\n"
   ]
  },
  {
   "cell_type": "code",
   "execution_count": 7,
   "metadata": {},
   "outputs": [
    {
     "name": "stdout",
     "output_type": "stream",
     "text": [
      "Graph name: Graph01 + Graph02 + Graph03\n",
      "Graph's nodes:\n",
      "Node name: 10\n",
      "Node neighbors:\n",
      "Neighbor name: 3         Weight: 15\n",
      "Neighbor name: 2         Weight: 5\n",
      "\n",
      "Node name: 1\n",
      "Node neighbors:\n",
      "Neighbor name: 2         Weight: 10\n",
      "Neighbor name: 5         Weight: 20\n",
      "Neighbor name: 4         Weight: 20\n",
      "Neighbor name: 7         Weight: 15\n",
      "Neighbor name: 6         Weight: 5\n",
      "\n",
      "Node name: 3\n",
      "Node neighbors:\n",
      "Neighbor name: 2         Weight: 15\n",
      "Neighbor name: 4         Weight: 5\n",
      "\n",
      "Node name: 2\n",
      "Node neighbors:\n",
      "Neighbor name: 3         Weight: 5\n",
      "Neighbor name: 4         Weight: 10\n",
      "\n",
      "Node name: 5\n",
      "Node neighbors:\n",
      "Neighbor name: 6         Weight: 5\n",
      "\n",
      "Node name: 4\n",
      "Node neighbors:\n",
      "Neighbor name: 5         Weight: 10\n",
      "\n",
      "Node name: 7\n",
      "Node neighbors:\n",
      "Neighbor name: 6         Weight: 10\n",
      "\n",
      "Node name: 6\n",
      "Node has no neighbors.\n",
      "\n",
      "Node name: 9\n",
      "Node neighbors:\n",
      "Neighbor name: 8         Weight: 20\n",
      "Neighbor name: 2         Weight: 15\n",
      "Neighbor name: 10        Weight: 10\n",
      "\n",
      "Node name: 8\n",
      "Node neighbors:\n",
      "Neighbor name: 1         Weight: 5\n",
      "Neighbor name: 2         Weight: 20\n",
      "Neighbor name: 7         Weight: 5\n",
      "\n",
      "\n"
     ]
    }
   ],
   "source": [
    "graph1 = Graph(\"Graph01\", [node_01, node_03, node_05, node_07])\n",
    "graph2 = Graph(\"Graph02\", [node_02, node_08, node_09])\n",
    "graph3 = Graph(\"Graph03\", [node_04, node_06, node_10])\n",
    "graph = graph1 + graph2 + graph3\n",
    "print graph"
   ]
  },
  {
   "cell_type": "markdown",
   "metadata": {},
   "source": [
    "## Question 3\n",
    "### Sort the nodes by the number of their reachable nodes."
   ]
  },
  {
   "cell_type": "code",
   "execution_count": 8,
   "metadata": {},
   "outputs": [
    {
     "name": "stdout",
     "output_type": "stream",
     "text": [
      "[('6', 0), ('5', 1), ('7', 1), ('4', 2), ('3', 4), ('2', 4), ('10', 5), ('1', 6), ('8', 7), ('9', 9)]\n"
     ]
    }
   ],
   "source": [
    "res = []\n",
    "for frm_name in graph.nodes:\n",
    "    reachable_nodes = 0\n",
    "    for to_name in graph.nodes:\n",
    "        if frm_name == to_name:\n",
    "            continue\n",
    "        if graph.is_reachable(frm_name, to_name):\n",
    "            reachable_nodes += 1\n",
    "    res.append((frm_name, reachable_nodes))\n",
    "print sorted(res, key=lambda x: x[1])"
   ]
  },
  {
   "cell_type": "markdown",
   "metadata": {},
   "source": [
    "## Question 4\n",
    "### What is the pair of nodes that the shortest path between them has the highest weight?"
   ]
  },
  {
   "cell_type": "code",
   "execution_count": 9,
   "metadata": {},
   "outputs": [
    {
     "name": "stdout",
     "output_type": "stream",
     "text": [
      "('9', '5', 35)\n"
     ]
    }
   ],
   "source": [
    "res = []\n",
    "for frm_name in graph.nodes:\n",
    "    for to_name in graph.nodes:\n",
    "        if frm_name == to_name:\n",
    "            continue\n",
    "        shortest_path = graph.find_shortest_path(frm_name, to_name)\n",
    "        res.append((frm_name, to_name, graph.get_path_weight(shortest_path)))\n",
    "print sorted(res, key=lambda x: x[2])[-1]"
   ]
  },
  {
   "cell_type": "markdown",
   "metadata": {},
   "source": [
    "## Task 3 – The roadmap implementation"
   ]
  },
  {
   "cell_type": "code",
   "execution_count": 10,
   "metadata": {},
   "outputs": [
    {
     "name": "stdout",
     "output_type": "stream",
     "text": [
      "time data '22/01/2016 25h52m' does not match format '%d/%m/%Y %Hh%Mm'\n",
      "time data '26/02/2016 1412' does not match format '%d/%m/%Y %Hh%Mm'\n",
      "\n",
      "('Center', 'West') - 5378\n",
      "('Center', 'North') - 5308\n",
      "('East', 'South') - 3597\n",
      "\n",
      "time data '05:55:00PM ; Jam 25 16' does not match format '%I:%M:%S%p ; %b %d %y'\n",
      "time data '08:12:00PM : Feb 10 16' does not match format '%I:%M:%S%p ; %b %d %y'\n",
      "time data '02:43:00AM ; Feb 00 16' does not match format '%I:%M:%S%p ; %b %d %y'\n",
      "\n",
      "('South', 'East') - 3582\n",
      "('Center', 'South') - 10806\n",
      "('North', 'Center') - 3543\n",
      "('West', 'North') - 3565\n",
      "('Center', 'East') - 3513\n",
      "('West', 'Center') - 8953\n"
     ]
    }
   ],
   "source": [
    "from datetime import datetime\n",
    "def get_data(file_name, time_stmp_format):\n",
    "    res = []\n",
    "    with open(file_name) as f:\n",
    "        for line in f:\n",
    "            fields = line.rstrip().split(',')\n",
    "            if len(fields) == 4 and fields[0] in ['North', 'South', 'East', 'West', 'Center']:\n",
    "                from_area, to_area = fields[0], fields[2]\n",
    "                try:\n",
    "                    time_start = datetime.strptime(fields[1], time_stmp_format)\n",
    "                    time_end = datetime.strptime(fields[3], time_stmp_format)\n",
    "                except ValueError as err:\n",
    "                    # for double checking input vs. format\n",
    "                    print err\n",
    "                    continue\n",
    "                res.append(((from_area, to_area), (time_end - time_start).seconds))\n",
    "    print\n",
    "    return res\n",
    "\n",
    "def print_data(res_list):\n",
    "    res_dict = {}\n",
    "    for road in res:\n",
    "        key, value = road[0], road[1]\n",
    "        l = res_dict.get(key, [])\n",
    "        l.append(value)\n",
    "        res_dict[key] = l\n",
    "    for road in res_dict:\n",
    "        print road, \"-\", int(round(sum(res_dict[road])/float(len(res_dict[road]))))\n",
    "        \n",
    "res = get_data(\"travelsEW.csv\", \"%d/%m/%Y %Hh%Mm\")\n",
    "print_data(res)\n",
    "print\n",
    "res = get_data(\"travelsWE.csv\", \"%I:%M:%S%p ; %b %d %y\")\n",
    "print_data(res)"
   ]
  },
  {
   "cell_type": "markdown",
   "metadata": {},
   "source": [
    "## Question 1\n",
    "### From each file create a graph whose nodes are the country regions, and whose edges are the roads themselves."
   ]
  },
  {
   "cell_type": "code",
   "execution_count": 11,
   "metadata": {
    "collapsed": true
   },
   "outputs": [],
   "source": [
    "node_c = Node(\"Center\")\n",
    "node_c.add_neighbor(\"West\", 5378)\n",
    "node_c.add_neighbor(\"North\", 5308)\n",
    "node_e = Node(\"East\")\n",
    "node_e.add_neighbor(\"South\", 3597)\n",
    "graph1 = Graph(\"Graph1\", [node_c, node_e])\n",
    "\n",
    "node_s = Node(\"South\")\n",
    "node_s.add_neighbor(\"East\", 3582)\n",
    "node_c = Node(\"Center\")\n",
    "node_c.add_neighbor(\"South\", 10806)\n",
    "node_n = Node(\"North\")\n",
    "node_n.add_neighbor(\"Center\", 3543)\n",
    "node_w = Node(\"West\")\n",
    "node_w.add_neighbor(\"North\", 3565)\n",
    "node_c.add_neighbor(\"East\", 3513)\n",
    "node_w.add_neighbor(\"Center\", 8953)\n",
    "graph2 = Graph(\"Graph2\", [node_s, node_c, node_n, node_w])"
   ]
  },
  {
   "cell_type": "markdown",
   "metadata": {},
   "source": [
    "### When the two graphs are ready, add them together to create the complete graph of the roadmap."
   ]
  },
  {
   "cell_type": "code",
   "execution_count": 12,
   "metadata": {},
   "outputs": [
    {
     "name": "stdout",
     "output_type": "stream",
     "text": [
      "Graph name: Graph1 + Graph2\n",
      "Graph's nodes:\n",
      "Node name: West\n",
      "Node neighbors:\n",
      "Neighbor name: North     Weight: 3565\n",
      "Neighbor name: Center    Weight: 8953\n",
      "\n",
      "Node name: East\n",
      "Node neighbors:\n",
      "Neighbor name: South     Weight: 3597\n",
      "\n",
      "Node name: North\n",
      "Node neighbors:\n",
      "Neighbor name: Center    Weight: 3543\n",
      "\n",
      "Node name: Center\n",
      "Node neighbors:\n",
      "Neighbor name: West      Weight: 5378\n",
      "Neighbor name: East      Weight: 3513\n",
      "Neighbor name: North     Weight: 5308\n",
      "Neighbor name: South     Weight: 10806\n",
      "\n",
      "Node name: South\n",
      "Node neighbors:\n",
      "Neighbor name: East      Weight: 3582\n",
      "\n",
      "\n"
     ]
    }
   ],
   "source": [
    "graph = graph1 + graph2\n",
    "print graph"
   ]
  },
  {
   "cell_type": "markdown",
   "metadata": {},
   "source": [
    "### From which region to which region it takes the longest time to travel?"
   ]
  },
  {
   "cell_type": "code",
   "execution_count": 13,
   "metadata": {},
   "outputs": [
    {
     "name": "stdout",
     "output_type": "stream",
     "text": [
      "('West', 'South', ['West', 'Center', 'East', 'South'], 16063)\n"
     ]
    }
   ],
   "source": [
    "res = []\n",
    "for frm_area in graph.nodes:\n",
    "    for to_area in graph.nodes:\n",
    "        if frm_area == to_area:\n",
    "            continue\n",
    "        shortest_path = graph.find_shortest_path(frm_area, to_area)\n",
    "        if shortest_path:\n",
    "            res.append((frm_area, to_area, shortest_path, graph.get_path_weight(shortest_path)))\n",
    "print sorted(res, key=lambda x: x[3])[-1]"
   ]
  },
  {
   "cell_type": "markdown",
   "metadata": {},
   "source": [
    "## Part III – Non-directional graph Task 1 – define the class\n",
    "### Implement the NonDirectionalGraph class as a sub-class of Graph."
   ]
  },
  {
   "cell_type": "code",
   "execution_count": 14,
   "metadata": {
    "collapsed": true
   },
   "outputs": [],
   "source": [
    "class NonDirectionalGraph(Graph):\n",
    "    def add_node(self, node):\n",
    "        # If node not in graph\n",
    "        if node not in self:\n",
    "            # Add node with all its data\n",
    "            self.nodes[node.name] = node\n",
    "            # Run through node's neighbors\n",
    "            for neighbor in node.neighbors:\n",
    "                # If neighbor not in graph add it\n",
    "                if not self[neighbor.name]:\n",
    "                    self.add_node(Node(neighbor.name))\n",
    "                self[neighbor.name].add_neighbor(node, self.get_edge_weight(node, neighbor))\n",
    "        else:\n",
    "            # (node exists)\n",
    "            # Run through node's neighbors\n",
    "            for neighbor, weight in node.neighbors.items():\n",
    "                # If neighbor not in graph add it\n",
    "                if not self[neighbor.name]:\n",
    "                    self.add_node(Node(neighbor.name))\n",
    "                # update weight\n",
    "                self[node.name].add_neighbor(neighbor, weight)\n",
    "                self[neighbor.name].add_neighbor(node, weight)\n",
    "\n",
    "    def add_edge(self, frm_name, to_name, weight=1):\n",
    "        if frm_name not in self:\n",
    "            self.add_node(Node(frm_name))\n",
    "        if to_name not in self:\n",
    "            self.add_node(Node(to_name))\n",
    "        self[frm_name].add_neighbor(to_name, weight)\n",
    "        self[to_name].add_neighbor(frm_name, weight)\n",
    "\n",
    "    def remove_edge(self, frm_name, to_name):\n",
    "        if frm_name in self and self[frm_name].is_neighbor(to_name):\n",
    "            self[frm_name].remove_neighbor(to_name)\n",
    "            self[to_name].remove_neighbor(frm_name)"
   ]
  },
  {
   "cell_type": "markdown",
   "metadata": {},
   "source": [
    "## What was the highest number of simultaneous friendships?"
   ]
  },
  {
   "cell_type": "code",
   "execution_count": 15,
   "metadata": {},
   "outputs": [
    {
     "name": "stdout",
     "output_type": "stream",
     "text": [
      "54\n"
     ]
    }
   ],
   "source": [
    "def process_line(line, graph):\n",
    "    words = line.rstrip().split(' ')\n",
    "    if len(words) == 5 and words[3] == \"became\" and words[4] == \"friends.\":\n",
    "        graph.add_edge(words[0], words[2])\n",
    "    elif len(words) == 6 and words[3] == \"cancelled\" and words[4] == \"their\" and words[5] == \"friendship.\":\n",
    "        graph.remove_edge(words[0], words[2])\n",
    "\n",
    "graph = NonDirectionalGraph(\"Graph\")\n",
    "res = []\n",
    "with open(\"social.txt\") as f:\n",
    "    for line in f:\n",
    "        process_line(line, graph)\n",
    "\n",
    "        num_of_friendships = 0\n",
    "        for node in graph.nodes:\n",
    "            num_of_friendships += len(graph[node])\n",
    "        res.append(num_of_friendships/2)\n",
    "\n",
    "print max(res)"
   ]
  },
  {
   "cell_type": "markdown",
   "metadata": {},
   "source": [
    "## What was the maximum number of friends Reuben had simultaneously?"
   ]
  },
  {
   "cell_type": "code",
   "execution_count": 16,
   "metadata": {},
   "outputs": [
    {
     "name": "stdout",
     "output_type": "stream",
     "text": [
      "10\n"
     ]
    }
   ],
   "source": [
    "graph = NonDirectionalGraph(\"Graph\")\n",
    "res = []\n",
    "max_Reuben_friends = 0\n",
    "with open(\"social.txt\") as f:\n",
    "    for line in f:\n",
    "        process_line(line, graph)\n",
    "        try:\n",
    "            if graph[\"Reuben\"]:\n",
    "                if len(graph[\"Reuben\"]) > max_Reuben_friends:\n",
    "                    max_Reuben_friends = len(graph[\"Reuben\"])\n",
    "        except KeyError:\n",
    "            # Ruben not in graph\n",
    "            pass\n",
    "\n",
    "print max_Reuben_friends"
   ]
  },
  {
   "cell_type": "markdown",
   "metadata": {},
   "source": [
    "## At the current graph (considering all the data of the file), what is the maximal path between nodes in the graph?"
   ]
  },
  {
   "cell_type": "code",
   "execution_count": 17,
   "metadata": {},
   "outputs": [
    {
     "name": "stdout",
     "output_type": "stream",
     "text": [
      "2\n"
     ]
    }
   ],
   "source": [
    "graph = NonDirectionalGraph(\"Graph\")\n",
    "with open(\"social.txt\") as f:\n",
    "    for line in f:\n",
    "        process_line(line, graph)\n",
    "\n",
    "res = []\n",
    "for frm_name in graph.nodes:\n",
    "    for to_name in graph.nodes:\n",
    "        if frm_name == to_name:\n",
    "            continue\n",
    "        shortest_path = graph.find_shortest_path(frm_name, to_name)\n",
    "        if shortest_path:\n",
    "            res.append(graph.get_path_weight(shortest_path))\n",
    "print sorted(res)[-1]"
   ]
  },
  {
   "cell_type": "markdown",
   "metadata": {},
   "source": [
    "## Implement a function called suggest_friend(graph, node_name) that returns the name of the node with the highest number of common friends with node_name, which is not already one of his friends."
   ]
  },
  {
   "cell_type": "code",
   "execution_count": 18,
   "metadata": {},
   "outputs": [
    {
     "name": "stdout",
     "output_type": "stream",
     "text": [
      "Judah\n"
     ]
    }
   ],
   "source": [
    "def suggest_friend(graph, node_name):\n",
    "    if node_name in graph:\n",
    "        res = []\n",
    "        friends_of_node_name = set(graph[node_name].neighbors)\n",
    "        for node in graph.nodes:\n",
    "            if node not in friends_of_node_name and node != node_name:\n",
    "                res.append((node, len(friends_of_node_name & set(graph[node].neighbors))))\n",
    "        return sorted(res, key=lambda x: x[1])[-1][0]\n",
    "\n",
    "print suggest_friend(graph, \"Reuben\")"
   ]
  }
 ],
 "metadata": {
  "anaconda-cloud": {},
  "kernelspec": {
   "display_name": "Python 2",
   "language": "python",
   "name": "python2"
  },
  "language_info": {
   "codemirror_mode": {
    "name": "ipython",
    "version": 2
   },
   "file_extension": ".py",
   "mimetype": "text/x-python",
   "name": "python",
   "nbconvert_exporter": "python",
   "pygments_lexer": "ipython2",
   "version": "2.7.13"
  }
 },
 "nbformat": 4,
 "nbformat_minor": 1
}
